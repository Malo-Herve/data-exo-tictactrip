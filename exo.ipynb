{
 "cells": [
  {
   "cell_type": "code",
   "execution_count": 215,
   "metadata": {
    "collapsed": true
   },
   "outputs": [],
   "source": [
    "import pandas as pd\n",
    "import datetime\n",
    "from dateutil.relativedelta import relativedelta\n",
    "import matplotlib.pyplot as plt\n",
    "import math"
   ]
  },
  {
   "cell_type": "code",
   "execution_count": 216,
   "metadata": {
    "collapsed": true
   },
   "outputs": [],
   "source": [
    "cities=pd.read_csv(\"C://Users//Malo//Documents//1A//stage//cities.csv\")\n",
    "providers=pd.read_csv(\"C://Users//Malo//Documents//1A//stage//providers.csv\")\n",
    "stations=pd.read_csv(\"C://Users//Malo//Documents//1A//stage//stations.csv\")\n",
    "ticket_data=pd.read_csv(\"C://Users//Malo//Documents//1A//stage//ticket_data.csv\")"
   ]
  },
  {
   "cell_type": "code",
   "execution_count": 217,
   "metadata": {
    "collapsed": true
   },
   "outputs": [],
   "source": [
    "%matplotlib inline"
   ]
  },
  {
   "cell_type": "markdown",
   "metadata": {},
   "source": [
    "On commence par se faire une idée des colonnes des tables."
   ]
  },
  {
   "cell_type": "code",
   "execution_count": 218,
   "metadata": {},
   "outputs": [
    {
     "data": {
      "text/html": [
       "<div>\n",
       "<style>\n",
       "    .dataframe thead tr:only-child th {\n",
       "        text-align: right;\n",
       "    }\n",
       "\n",
       "    .dataframe thead th {\n",
       "        text-align: left;\n",
       "    }\n",
       "\n",
       "    .dataframe tbody tr th {\n",
       "        vertical-align: top;\n",
       "    }\n",
       "</style>\n",
       "<table border=\"1\" class=\"dataframe\">\n",
       "  <thead>\n",
       "    <tr style=\"text-align: right;\">\n",
       "      <th></th>\n",
       "      <th>id</th>\n",
       "      <th>company</th>\n",
       "      <th>o_station</th>\n",
       "      <th>d_station</th>\n",
       "      <th>departure_ts</th>\n",
       "      <th>arrival_ts</th>\n",
       "      <th>price_in_cents</th>\n",
       "      <th>search_ts</th>\n",
       "      <th>middle_stations</th>\n",
       "      <th>other_companies</th>\n",
       "      <th>o_city</th>\n",
       "      <th>d_city</th>\n",
       "    </tr>\n",
       "  </thead>\n",
       "  <tbody>\n",
       "    <tr>\n",
       "      <th>0</th>\n",
       "      <td>6795025</td>\n",
       "      <td>8385</td>\n",
       "      <td>NaN</td>\n",
       "      <td>NaN</td>\n",
       "      <td>2017-10-13 14:00:00+00</td>\n",
       "      <td>2017-10-13 20:10:00+00</td>\n",
       "      <td>4550</td>\n",
       "      <td>2017-10-01 00:13:31.327+00</td>\n",
       "      <td>NaN</td>\n",
       "      <td>NaN</td>\n",
       "      <td>611</td>\n",
       "      <td>542</td>\n",
       "    </tr>\n",
       "    <tr>\n",
       "      <th>1</th>\n",
       "      <td>6795026</td>\n",
       "      <td>9</td>\n",
       "      <td>63.0</td>\n",
       "      <td>1044.0</td>\n",
       "      <td>2017-10-13 13:05:00+00</td>\n",
       "      <td>2017-10-14 06:55:00+00</td>\n",
       "      <td>1450</td>\n",
       "      <td>2017-10-01 00:13:35.773+00</td>\n",
       "      <td>{149,418}</td>\n",
       "      <td>{13}</td>\n",
       "      <td>611</td>\n",
       "      <td>542</td>\n",
       "    </tr>\n",
       "    <tr>\n",
       "      <th>2</th>\n",
       "      <td>6795027</td>\n",
       "      <td>8377</td>\n",
       "      <td>5905.0</td>\n",
       "      <td>6495.0</td>\n",
       "      <td>2017-10-13 13:27:00+00</td>\n",
       "      <td>2017-10-14 21:24:00+00</td>\n",
       "      <td>7400</td>\n",
       "      <td>2017-10-01 00:13:40.212+00</td>\n",
       "      <td>{798,798,6794,6246}</td>\n",
       "      <td>{8377,8376}</td>\n",
       "      <td>611</td>\n",
       "      <td>542</td>\n",
       "    </tr>\n",
       "    <tr>\n",
       "      <th>3</th>\n",
       "      <td>6795028</td>\n",
       "      <td>8377</td>\n",
       "      <td>5905.0</td>\n",
       "      <td>6495.0</td>\n",
       "      <td>2017-10-13 13:27:00+00</td>\n",
       "      <td>2017-10-14 11:02:00+00</td>\n",
       "      <td>13500</td>\n",
       "      <td>2017-10-01 00:13:40.213+00</td>\n",
       "      <td>{798,798,6794,6246}</td>\n",
       "      <td>{8377,8376}</td>\n",
       "      <td>611</td>\n",
       "      <td>542</td>\n",
       "    </tr>\n",
       "    <tr>\n",
       "      <th>4</th>\n",
       "      <td>6795029</td>\n",
       "      <td>8381</td>\n",
       "      <td>5905.0</td>\n",
       "      <td>6495.0</td>\n",
       "      <td>2017-10-13 21:46:00+00</td>\n",
       "      <td>2017-10-14 19:32:00+00</td>\n",
       "      <td>7710</td>\n",
       "      <td>2017-10-01 00:13:40.213+00</td>\n",
       "      <td>{5983,5983}</td>\n",
       "      <td>{8380}</td>\n",
       "      <td>611</td>\n",
       "      <td>542</td>\n",
       "    </tr>\n",
       "  </tbody>\n",
       "</table>\n",
       "</div>"
      ],
      "text/plain": [
       "        id  company  o_station  d_station            departure_ts  \\\n",
       "0  6795025     8385        NaN        NaN  2017-10-13 14:00:00+00   \n",
       "1  6795026        9       63.0     1044.0  2017-10-13 13:05:00+00   \n",
       "2  6795027     8377     5905.0     6495.0  2017-10-13 13:27:00+00   \n",
       "3  6795028     8377     5905.0     6495.0  2017-10-13 13:27:00+00   \n",
       "4  6795029     8381     5905.0     6495.0  2017-10-13 21:46:00+00   \n",
       "\n",
       "               arrival_ts  price_in_cents                   search_ts  \\\n",
       "0  2017-10-13 20:10:00+00            4550  2017-10-01 00:13:31.327+00   \n",
       "1  2017-10-14 06:55:00+00            1450  2017-10-01 00:13:35.773+00   \n",
       "2  2017-10-14 21:24:00+00            7400  2017-10-01 00:13:40.212+00   \n",
       "3  2017-10-14 11:02:00+00           13500  2017-10-01 00:13:40.213+00   \n",
       "4  2017-10-14 19:32:00+00            7710  2017-10-01 00:13:40.213+00   \n",
       "\n",
       "       middle_stations other_companies  o_city  d_city  \n",
       "0                  NaN             NaN     611     542  \n",
       "1            {149,418}            {13}     611     542  \n",
       "2  {798,798,6794,6246}     {8377,8376}     611     542  \n",
       "3  {798,798,6794,6246}     {8377,8376}     611     542  \n",
       "4          {5983,5983}          {8380}     611     542  "
      ]
     },
     "execution_count": 218,
     "metadata": {},
     "output_type": "execute_result"
    }
   ],
   "source": [
    "ticket_data.head()\n",
    "#cities.head()\n",
    "#stations.head()\n",
    "#providers.head()"
   ]
  },
  {
   "cell_type": "code",
   "execution_count": 248,
   "metadata": {},
   "outputs": [
    {
     "data": {
      "text/plain": [
       "(300, 4382.711061374178, 38550)"
      ]
     },
     "execution_count": 248,
     "metadata": {},
     "output_type": "execute_result"
    }
   ],
   "source": [
    "min(ticket_data.price_in_cents),ticket_data.price_in_cents.mean(),max(ticket_data.price_in_cents)"
   ]
  },
  {
   "cell_type": "markdown",
   "metadata": {},
   "source": [
    "Les prix des trajets vont de 3€ à 385€ avec une moyenne à 44€."
   ]
  },
  {
   "cell_type": "code",
   "execution_count": 224,
   "metadata": {},
   "outputs": [
    {
     "data": {
      "text/plain": [
       "'2017-10-13 13:05:00'"
      ]
     },
     "execution_count": 224,
     "metadata": {},
     "output_type": "execute_result"
    }
   ],
   "source": [
    "def transforme(date):#transforme les dates de ticket_data en dates standard\n",
    "    heure = str(int(date[11:13])+int(date[20:]))\n",
    "    return date[:11] + heure + date[13:19]\n",
    "transforme(ticket_data.loc[1,\"departure_ts\"])"
   ]
  },
  {
   "cell_type": "code",
   "execution_count": 225,
   "metadata": {},
   "outputs": [
    {
     "data": {
      "text/plain": [
       "64200"
      ]
     },
     "execution_count": 225,
     "metadata": {},
     "output_type": "execute_result"
    }
   ],
   "source": [
    "def duree(i):#calcule la duree en secondes du ticket i avec les dates de depart et d'arrivee\n",
    "    b = transforme(ticket_data.loc[i,\"departure_ts\"])\n",
    "    a = transforme(ticket_data.loc[i,\"arrival_ts\"])\n",
    "    start = datetime.datetime.strptime(a, '%Y-%m-%d %H:%M:%S')\n",
    "    ends = datetime.datetime.strptime(b, '%Y-%m-%d %H:%M:%S')\n",
    "    diff = relativedelta(start, ends)\n",
    "    return ((( diff.days*24 + diff.hours)*60 + diff.minutes)*60 + diff.seconds)\n",
    "duree(1)"
   ]
  },
  {
   "cell_type": "markdown",
   "metadata": {},
   "source": [
    "On peut donc rajouter la colonne durée à la table ticket_data."
   ]
  },
  {
   "cell_type": "code",
   "execution_count": 226,
   "metadata": {},
   "outputs": [],
   "source": [
    "ticket_data[\"duree\"] = pd.Series([duree(i) for i in range(len(ticket_data))])\n",
    "ticket_data.head()"
   ]
  },
  {
   "cell_type": "markdown",
   "metadata": {},
   "source": [
    "On regroupe les données par trajet, pour ce faire je définis un trajet par ses villes de départ et d'arrivée.\n",
    "Je me rends compte après avoir terminé mon travail que ce n'est pas forcément ce qui était attendu mais c'est tout de même intéressant."
   ]
  },
  {
   "cell_type": "code",
   "execution_count": 228,
   "metadata": {},
   "outputs": [
    {
     "data": {
      "text/html": [
       "<div>\n",
       "<style>\n",
       "    .dataframe thead tr:only-child th {\n",
       "        text-align: right;\n",
       "    }\n",
       "\n",
       "    .dataframe thead th {\n",
       "        text-align: left;\n",
       "    }\n",
       "\n",
       "    .dataframe tbody tr th {\n",
       "        vertical-align: top;\n",
       "    }\n",
       "</style>\n",
       "<table border=\"1\" class=\"dataframe\">\n",
       "  <thead>\n",
       "    <tr style=\"text-align: right;\">\n",
       "      <th></th>\n",
       "      <th></th>\n",
       "      <th>id</th>\n",
       "      <th>company</th>\n",
       "      <th>o_station</th>\n",
       "      <th>d_station</th>\n",
       "      <th>price_in_cents</th>\n",
       "      <th>duree</th>\n",
       "    </tr>\n",
       "    <tr>\n",
       "      <th>o_city</th>\n",
       "      <th>d_city</th>\n",
       "      <th></th>\n",
       "      <th></th>\n",
       "      <th></th>\n",
       "      <th></th>\n",
       "      <th></th>\n",
       "      <th></th>\n",
       "    </tr>\n",
       "  </thead>\n",
       "  <tbody>\n",
       "    <tr>\n",
       "      <th>5</th>\n",
       "      <th>23</th>\n",
       "      <td>6.852890e+06</td>\n",
       "      <td>8376.000000</td>\n",
       "      <td>562.000000</td>\n",
       "      <td>269.000000</td>\n",
       "      <td>20320.000000</td>\n",
       "      <td>37128.000000</td>\n",
       "    </tr>\n",
       "    <tr>\n",
       "      <th rowspan=\"4\" valign=\"top\">6</th>\n",
       "      <th>227</th>\n",
       "      <td>6.849908e+06</td>\n",
       "      <td>8378.000000</td>\n",
       "      <td>3653.000000</td>\n",
       "      <td>575.000000</td>\n",
       "      <td>11755.000000</td>\n",
       "      <td>49350.000000</td>\n",
       "    </tr>\n",
       "    <tr>\n",
       "      <th>504</th>\n",
       "      <td>6.812632e+06</td>\n",
       "      <td>6146.500000</td>\n",
       "      <td>1414.846154</td>\n",
       "      <td>1211.846154</td>\n",
       "      <td>4042.666667</td>\n",
       "      <td>29844.000000</td>\n",
       "    </tr>\n",
       "    <tr>\n",
       "      <th>628</th>\n",
       "      <td>6.821602e+06</td>\n",
       "      <td>4192.000000</td>\n",
       "      <td>16.000000</td>\n",
       "      <td>8051.250000</td>\n",
       "      <td>2797.500000</td>\n",
       "      <td>43800.000000</td>\n",
       "    </tr>\n",
       "    <tr>\n",
       "      <th>845</th>\n",
       "      <td>6.855433e+06</td>\n",
       "      <td>8384.940299</td>\n",
       "      <td>3653.000000</td>\n",
       "      <td>527.000000</td>\n",
       "      <td>864.626866</td>\n",
       "      <td>4794.626866</td>\n",
       "    </tr>\n",
       "  </tbody>\n",
       "</table>\n",
       "</div>"
      ],
      "text/plain": [
       "                         id      company    o_station    d_station  \\\n",
       "o_city d_city                                                        \n",
       "5      23      6.852890e+06  8376.000000   562.000000   269.000000   \n",
       "6      227     6.849908e+06  8378.000000  3653.000000   575.000000   \n",
       "       504     6.812632e+06  6146.500000  1414.846154  1211.846154   \n",
       "       628     6.821602e+06  4192.000000    16.000000  8051.250000   \n",
       "       845     6.855433e+06  8384.940299  3653.000000   527.000000   \n",
       "\n",
       "               price_in_cents         duree  \n",
       "o_city d_city                                \n",
       "5      23        20320.000000  37128.000000  \n",
       "6      227       11755.000000  49350.000000  \n",
       "       504        4042.666667  29844.000000  \n",
       "       628        2797.500000  43800.000000  \n",
       "       845         864.626866   4794.626866  "
      ]
     },
     "execution_count": 228,
     "metadata": {},
     "output_type": "execute_result"
    }
   ],
   "source": [
    "gr1=ticket_data.groupby(['o_city','d_city'])\n",
    "gr1.mean().head()"
   ]
  },
  {
   "cell_type": "code",
   "execution_count": 249,
   "metadata": {},
   "outputs": [
    {
     "data": {
      "text/plain": [
       "<matplotlib.axes._subplots.AxesSubplot at 0x1b4b8d71208>"
      ]
     },
     "execution_count": 249,
     "metadata": {},
     "output_type": "execute_result"
    },
    {
     "data": {
      "image/png": "[encoded data removed]",
      "text/plain": [
       "<matplotlib.figure.Figure at 0x1b4b8d789b0>"
      ]
     },
     "metadata": {},
     "output_type": "display_data"
    }
   ],
   "source": [
    "pd.DataFrame.boxplot(gr1.mean()[\"duree\"], vert = False, showfliers = False )#répartition des durées"
   ]
  },
  {
   "cell_type": "markdown",
   "metadata": {},
   "source": [
    "De nombreuses valeurs extrêmes semblent tirer la moyenne vers le haut. (option showfliers). Par ailleurs on pourrait déjà transformer la colonne durée pour la rendre plus lisible mais cela empêcherait les calculs dessus."
   ]
  },
  {
   "cell_type": "code",
   "execution_count": 244,
   "metadata": {},
   "outputs": [
    {
     "data": {
      "text/plain": [
       "'340 h 48'"
      ]
     },
     "execution_count": 244,
     "metadata": {},
     "output_type": "execute_result"
    }
   ],
   "source": [
    "def heures(n):#transforme un nombre de secondes en heures et minutes\n",
    "    return \"%d h %d\" % (n//3600,n%3600//60)\n",
    "heures(1226900)"
   ]
  },
  {
   "cell_type": "code",
   "execution_count": 231,
   "metadata": {},
   "outputs": [
    {
     "data": {
      "text/plain": [
       "'11 h 42'"
      ]
     },
     "execution_count": 231,
     "metadata": {},
     "output_type": "execute_result"
    }
   ],
   "source": [
    "heures(gr1.mean()[\"duree\"].mean())\n",
    "#duree moyenne par trajet : 11h42, probablement pas représentative."
   ]
  },
  {
   "cell_type": "code",
   "execution_count": 232,
   "metadata": {},
   "outputs": [
    {
     "data": {
      "text/plain": [
       "('0 h 44', '8 h 47', '340 h 48')"
      ]
     },
     "execution_count": 232,
     "metadata": {},
     "output_type": "execute_result"
    }
   ],
   "source": [
    "heures(gr1.mean()[\"duree\"].min()),heures(gr1.mean()[\"duree\"].median()),heures(gr1.mean()[\"duree\"].max())\n",
    "#durees min, mediane et max par trajet : 44min, 8h47 et 340h48 \n",
    "#le maximum parait aberrant ils serait intéressant de comprendre d'où il sort"
   ]
  },
  {
   "cell_type": "markdown",
   "metadata": {},
   "source": [
    "Pour la durée par trajet j'ai considéré qu'un trajet se définissait par la ville de départ et la ville d'arrivée, il est tout a fait possible de remplacer ville par station mais ça ne changera en théorie pas grand chose aux durées."
   ]
  },
  {
   "cell_type": "code",
   "execution_count": 233,
   "metadata": {},
   "outputs": [
    {
     "data": {
      "text/plain": [
       "(814.798860900272, 'barcelona', 'basel')"
      ]
     },
     "execution_count": 233,
     "metadata": {},
     "output_type": "execute_result"
    }
   ],
   "source": [
    "def distance(i,j):#renvoie la distance en km entre les villes i et j\n",
    "    if i < 8040 and j < 8040 : \n",
    "        lat1 = cities.loc[i,\"latitude\"]*math.pi/180\n",
    "        lat2 = cities.loc[j,\"latitude\"]*math.pi/180\n",
    "        long1 = cities.loc[i,\"longitude\"]*math.pi/180\n",
    "        long2 = cities.loc[j,\"longitude\"]*math.pi/180\n",
    "        #latitudes et longitudes du depart et de l'arrivee en radians\n",
    "        return 6378 * (math.pi/2 - math.asin(math.sin(lat2) * math.sin(lat1) + math.cos(long2 - long1) * math.cos(lat2) * math.cos(lat1)))\n",
    "    else : return -1 #car certaines villes ne sont pas dans la base\n",
    "i,j=1,2\n",
    "distance(i,j),cities.loc[i,\"unique_name\"],cities.loc[j,\"unique_name\"]\n",
    "#815 km entre barcelone et bale, ça semble realiste par rapport aux 1052km que\n",
    "#donne google maps en voiture. l'important est de pouvoir faire plusieurs groupes\n",
    "# de trajets selon les distances entre les villes"
   ]
  },
  {
   "cell_type": "markdown",
   "metadata": {},
   "source": [
    "on rajoute la distance de chaque ticket à la ticket_data, et on joint à providers pour avoir le type de transport."
   ]
  },
  {
   "cell_type": "code",
   "execution_count": 245,
   "metadata": {},
   "outputs": [],
   "source": [
    "ticket_data[\"distance\"] = pd.Series([ distance(ticket_data.loc[i,\"o_city\"], ticket_data.loc[i,\"d_city\"]) for i in range(len(ticket_data))])"
   ]
  },
  {
   "cell_type": "code",
   "execution_count": 246,
   "metadata": {},
   "outputs": [
    {
     "data": {
      "text/html": [
       "<div>\n",
       "<style>\n",
       "    .dataframe thead tr:only-child th {\n",
       "        text-align: right;\n",
       "    }\n",
       "\n",
       "    .dataframe thead th {\n",
       "        text-align: left;\n",
       "    }\n",
       "\n",
       "    .dataframe tbody tr th {\n",
       "        vertical-align: top;\n",
       "    }\n",
       "</style>\n",
       "<table border=\"1\" class=\"dataframe\">\n",
       "  <thead>\n",
       "    <tr style=\"text-align: right;\">\n",
       "      <th></th>\n",
       "      <th>id_x</th>\n",
       "      <th>company</th>\n",
       "      <th>o_station</th>\n",
       "      <th>d_station</th>\n",
       "      <th>departure_ts</th>\n",
       "      <th>arrival_ts</th>\n",
       "      <th>price_in_cents</th>\n",
       "      <th>search_ts</th>\n",
       "      <th>middle_stations</th>\n",
       "      <th>other_companies</th>\n",
       "      <th>...</th>\n",
       "      <th>id_y</th>\n",
       "      <th>company_id</th>\n",
       "      <th>provider_id</th>\n",
       "      <th>name</th>\n",
       "      <th>fullname</th>\n",
       "      <th>has_wifi</th>\n",
       "      <th>has_plug</th>\n",
       "      <th>has_adjustable_seats</th>\n",
       "      <th>has_bicycle</th>\n",
       "      <th>transport_type</th>\n",
       "    </tr>\n",
       "  </thead>\n",
       "  <tbody>\n",
       "    <tr>\n",
       "      <th>0</th>\n",
       "      <td>6795025</td>\n",
       "      <td>8385</td>\n",
       "      <td>NaN</td>\n",
       "      <td>NaN</td>\n",
       "      <td>2017-10-13 14:00:00+00</td>\n",
       "      <td>2017-10-13 20:10:00+00</td>\n",
       "      <td>4550</td>\n",
       "      <td>2017-10-01 00:13:31.327+00</td>\n",
       "      <td>NaN</td>\n",
       "      <td>NaN</td>\n",
       "      <td>...</td>\n",
       "      <td>8385</td>\n",
       "      <td>11</td>\n",
       "      <td>NaN</td>\n",
       "      <td>bbc</td>\n",
       "      <td>Blablacar</td>\n",
       "      <td>False</td>\n",
       "      <td>False</td>\n",
       "      <td>False</td>\n",
       "      <td>False</td>\n",
       "      <td>carpooling</td>\n",
       "    </tr>\n",
       "    <tr>\n",
       "      <th>1</th>\n",
       "      <td>6795030</td>\n",
       "      <td>8385</td>\n",
       "      <td>NaN</td>\n",
       "      <td>NaN</td>\n",
       "      <td>2017-10-06 05:30:00+00</td>\n",
       "      <td>2017-10-06 08:30:00+00</td>\n",
       "      <td>1800</td>\n",
       "      <td>2017-10-01 01:03:18.948+00</td>\n",
       "      <td>NaN</td>\n",
       "      <td>NaN</td>\n",
       "      <td>...</td>\n",
       "      <td>8385</td>\n",
       "      <td>11</td>\n",
       "      <td>NaN</td>\n",
       "      <td>bbc</td>\n",
       "      <td>Blablacar</td>\n",
       "      <td>False</td>\n",
       "      <td>False</td>\n",
       "      <td>False</td>\n",
       "      <td>False</td>\n",
       "      <td>carpooling</td>\n",
       "    </tr>\n",
       "    <tr>\n",
       "      <th>2</th>\n",
       "      <td>6795031</td>\n",
       "      <td>8385</td>\n",
       "      <td>NaN</td>\n",
       "      <td>NaN</td>\n",
       "      <td>2017-10-06 07:00:42+00</td>\n",
       "      <td>2017-10-06 09:30:42+00</td>\n",
       "      <td>2150</td>\n",
       "      <td>2017-10-01 01:03:18.948+00</td>\n",
       "      <td>NaN</td>\n",
       "      <td>NaN</td>\n",
       "      <td>...</td>\n",
       "      <td>8385</td>\n",
       "      <td>11</td>\n",
       "      <td>NaN</td>\n",
       "      <td>bbc</td>\n",
       "      <td>Blablacar</td>\n",
       "      <td>False</td>\n",
       "      <td>False</td>\n",
       "      <td>False</td>\n",
       "      <td>False</td>\n",
       "      <td>carpooling</td>\n",
       "    </tr>\n",
       "    <tr>\n",
       "      <th>3</th>\n",
       "      <td>6795032</td>\n",
       "      <td>8385</td>\n",
       "      <td>NaN</td>\n",
       "      <td>NaN</td>\n",
       "      <td>2017-10-06 07:10:00+00</td>\n",
       "      <td>2017-10-06 09:40:00+00</td>\n",
       "      <td>1700</td>\n",
       "      <td>2017-10-01 01:03:18.948+00</td>\n",
       "      <td>NaN</td>\n",
       "      <td>NaN</td>\n",
       "      <td>...</td>\n",
       "      <td>8385</td>\n",
       "      <td>11</td>\n",
       "      <td>NaN</td>\n",
       "      <td>bbc</td>\n",
       "      <td>Blablacar</td>\n",
       "      <td>False</td>\n",
       "      <td>False</td>\n",
       "      <td>False</td>\n",
       "      <td>False</td>\n",
       "      <td>carpooling</td>\n",
       "    </tr>\n",
       "    <tr>\n",
       "      <th>4</th>\n",
       "      <td>6795033</td>\n",
       "      <td>8385</td>\n",
       "      <td>NaN</td>\n",
       "      <td>NaN</td>\n",
       "      <td>2017-10-06 10:00:00+00</td>\n",
       "      <td>2017-10-06 12:50:00+00</td>\n",
       "      <td>1700</td>\n",
       "      <td>2017-10-01 01:03:18.948+00</td>\n",
       "      <td>NaN</td>\n",
       "      <td>NaN</td>\n",
       "      <td>...</td>\n",
       "      <td>8385</td>\n",
       "      <td>11</td>\n",
       "      <td>NaN</td>\n",
       "      <td>bbc</td>\n",
       "      <td>Blablacar</td>\n",
       "      <td>False</td>\n",
       "      <td>False</td>\n",
       "      <td>False</td>\n",
       "      <td>False</td>\n",
       "      <td>carpooling</td>\n",
       "    </tr>\n",
       "  </tbody>\n",
       "</table>\n",
       "<p>5 rows × 24 columns</p>\n",
       "</div>"
      ],
      "text/plain": [
       "      id_x  company  o_station  d_station            departure_ts  \\\n",
       "0  6795025     8385        NaN        NaN  2017-10-13 14:00:00+00   \n",
       "1  6795030     8385        NaN        NaN  2017-10-06 05:30:00+00   \n",
       "2  6795031     8385        NaN        NaN  2017-10-06 07:00:42+00   \n",
       "3  6795032     8385        NaN        NaN  2017-10-06 07:10:00+00   \n",
       "4  6795033     8385        NaN        NaN  2017-10-06 10:00:00+00   \n",
       "\n",
       "               arrival_ts  price_in_cents                   search_ts  \\\n",
       "0  2017-10-13 20:10:00+00            4550  2017-10-01 00:13:31.327+00   \n",
       "1  2017-10-06 08:30:00+00            1800  2017-10-01 01:03:18.948+00   \n",
       "2  2017-10-06 09:30:42+00            2150  2017-10-01 01:03:18.948+00   \n",
       "3  2017-10-06 09:40:00+00            1700  2017-10-01 01:03:18.948+00   \n",
       "4  2017-10-06 12:50:00+00            1700  2017-10-01 01:03:18.948+00   \n",
       "\n",
       "  middle_stations other_companies      ...        id_y  company_id  \\\n",
       "0             NaN             NaN      ...        8385          11   \n",
       "1             NaN             NaN      ...        8385          11   \n",
       "2             NaN             NaN      ...        8385          11   \n",
       "3             NaN             NaN      ...        8385          11   \n",
       "4             NaN             NaN      ...        8385          11   \n",
       "\n",
       "   provider_id  name   fullname  has_wifi has_plug has_adjustable_seats  \\\n",
       "0          NaN   bbc  Blablacar     False    False                False   \n",
       "1          NaN   bbc  Blablacar     False    False                False   \n",
       "2          NaN   bbc  Blablacar     False    False                False   \n",
       "3          NaN   bbc  Blablacar     False    False                False   \n",
       "4          NaN   bbc  Blablacar     False    False                False   \n",
       "\n",
       "  has_bicycle transport_type  \n",
       "0       False     carpooling  \n",
       "1       False     carpooling  \n",
       "2       False     carpooling  \n",
       "3       False     carpooling  \n",
       "4       False     carpooling  \n",
       "\n",
       "[5 rows x 24 columns]"
      ]
     },
     "execution_count": 246,
     "metadata": {},
     "output_type": "execute_result"
    }
   ],
   "source": [
    "table = ticket_data.merge(providers, left_on = \"company\", right_on = \"id\")\n",
    "table.head()"
   ]
  },
  {
   "cell_type": "code",
   "execution_count": 236,
   "metadata": {},
   "outputs": [
    {
     "data": {
      "text/plain": [
       "0             bus\n",
       "5             car\n",
       "208         train\n",
       "223    carpooling\n",
       "Name: transport_type, dtype: object"
      ]
     },
     "execution_count": 236,
     "metadata": {},
     "output_type": "execute_result"
    }
   ],
   "source": [
    "providers[\"transport_type\"].drop_duplicates()\n",
    "#il y a 4 moyens de transport en tout dans la base"
   ]
  },
  {
   "cell_type": "code",
   "execution_count": 237,
   "metadata": {},
   "outputs": [
    {
     "data": {
      "text/html": [
       "<div>\n",
       "<style>\n",
       "    .dataframe thead tr:only-child th {\n",
       "        text-align: right;\n",
       "    }\n",
       "\n",
       "    .dataframe thead th {\n",
       "        text-align: left;\n",
       "    }\n",
       "\n",
       "    .dataframe tbody tr th {\n",
       "        vertical-align: top;\n",
       "    }\n",
       "</style>\n",
       "<table border=\"1\" class=\"dataframe\">\n",
       "  <thead>\n",
       "    <tr style=\"text-align: right;\">\n",
       "      <th></th>\n",
       "      <th>id</th>\n",
       "      <th>company_id</th>\n",
       "      <th>provider_id</th>\n",
       "      <th>name</th>\n",
       "      <th>fullname</th>\n",
       "      <th>has_wifi</th>\n",
       "      <th>has_plug</th>\n",
       "      <th>has_adjustable_seats</th>\n",
       "      <th>has_bicycle</th>\n",
       "      <th>transport_type</th>\n",
       "    </tr>\n",
       "  </thead>\n",
       "  <tbody>\n",
       "    <tr>\n",
       "      <th>5</th>\n",
       "      <td>14</td>\n",
       "      <td>6</td>\n",
       "      <td>NaN</td>\n",
       "      <td>driivme</td>\n",
       "      <td>DriiveMe</td>\n",
       "      <td>False</td>\n",
       "      <td>False</td>\n",
       "      <td>False</td>\n",
       "      <td>False</td>\n",
       "      <td>car</td>\n",
       "    </tr>\n",
       "  </tbody>\n",
       "</table>\n",
       "</div>"
      ],
      "text/plain": [
       "   id  company_id provider_id     name  fullname has_wifi has_plug  \\\n",
       "5  14           6         NaN  driivme  DriiveMe    False    False   \n",
       "\n",
       "  has_adjustable_seats has_bicycle transport_type  \n",
       "5                False       False            car  "
      ]
     },
     "execution_count": 237,
     "metadata": {},
     "output_type": "execute_result"
    }
   ],
   "source": [
    "providers.loc[providers[\"transport_type\"] == 'car']\n",
    "#il y a un seul trajet en voiture dans la base, on n'en tient pas compte"
   ]
  },
  {
   "cell_type": "markdown",
   "metadata": {},
   "source": [
    "Ici on calcule les moyennes des variables prix et durée pour chacune des 4 catégories de distance."
   ]
  },
  {
   "cell_type": "code",
   "execution_count": 250,
   "metadata": {},
   "outputs": [],
   "source": [
    "t0 = table.loc[table[\"distance\"].between(0,200) ].groupby(\"transport_type\").mean()[[\"price_in_cents\", \"duree\"]]\n",
    "t1 = table.loc[table[\"distance\"].between(200,800) ].groupby(\"transport_type\").mean()[[\"price_in_cents\", \"duree\"]]\n",
    "t2 = table.loc[table[\"distance\"].between(800,2000) ].groupby(\"transport_type\").mean()[[\"price_in_cents\", \"duree\"]]\n",
    "t3 = table.loc[table[\"distance\"] >=2000 ].groupby(\"transport_type\").mean()[[\"price_in_cents\", \"duree\"]]"
   ]
  },
  {
   "cell_type": "markdown",
   "metadata": {},
   "source": [
    "On rassemble le tout sur une seule table :"
   ]
  },
  {
   "cell_type": "code",
   "execution_count": 251,
   "metadata": {},
   "outputs": [
    {
     "data": {
      "text/html": [
       "<div>\n",
       "<style>\n",
       "    .dataframe thead tr:only-child th {\n",
       "        text-align: right;\n",
       "    }\n",
       "\n",
       "    .dataframe thead th {\n",
       "        text-align: left;\n",
       "    }\n",
       "\n",
       "    .dataframe tbody tr th {\n",
       "        vertical-align: top;\n",
       "    }\n",
       "</style>\n",
       "<table border=\"1\" class=\"dataframe\">\n",
       "  <thead>\n",
       "    <tr style=\"text-align: right;\">\n",
       "      <th></th>\n",
       "      <th>price_in_cents</th>\n",
       "      <th>duree</th>\n",
       "      <th>price_in_cents</th>\n",
       "      <th>duree</th>\n",
       "      <th>price_in_cents</th>\n",
       "      <th>duree</th>\n",
       "      <th>price_in_cents</th>\n",
       "      <th>duree</th>\n",
       "    </tr>\n",
       "    <tr>\n",
       "      <th>transport_type</th>\n",
       "      <th></th>\n",
       "      <th></th>\n",
       "      <th></th>\n",
       "      <th></th>\n",
       "      <th></th>\n",
       "      <th></th>\n",
       "      <th></th>\n",
       "      <th></th>\n",
       "    </tr>\n",
       "  </thead>\n",
       "  <tbody>\n",
       "    <tr>\n",
       "      <th>bus</th>\n",
       "      <td>3406.552795</td>\n",
       "      <td>56649.968944</td>\n",
       "      <td>3690.366259</td>\n",
       "      <td>57912.807092</td>\n",
       "      <td>3631.394836</td>\n",
       "      <td>54682.474449</td>\n",
       "      <td>4060.615385</td>\n",
       "      <td>79196.307692</td>\n",
       "    </tr>\n",
       "    <tr>\n",
       "      <th>carpooling</th>\n",
       "      <td>3763.344316</td>\n",
       "      <td>20329.324547</td>\n",
       "      <td>2764.847444</td>\n",
       "      <td>14833.063419</td>\n",
       "      <td>2649.441879</td>\n",
       "      <td>14350.805687</td>\n",
       "      <td>2289.880952</td>\n",
       "      <td>13064.285714</td>\n",
       "    </tr>\n",
       "    <tr>\n",
       "      <th>train</th>\n",
       "      <td>8561.905312</td>\n",
       "      <td>29333.279446</td>\n",
       "      <td>9072.670257</td>\n",
       "      <td>27982.542190</td>\n",
       "      <td>8339.952320</td>\n",
       "      <td>25169.668566</td>\n",
       "      <td>3435.764706</td>\n",
       "      <td>18362.117647</td>\n",
       "    </tr>\n",
       "  </tbody>\n",
       "</table>\n",
       "</div>"
      ],
      "text/plain": [
       "                price_in_cents         duree  price_in_cents         duree  \\\n",
       "transport_type                                                               \n",
       "bus                3406.552795  56649.968944     3690.366259  57912.807092   \n",
       "carpooling         3763.344316  20329.324547     2764.847444  14833.063419   \n",
       "train              8561.905312  29333.279446     9072.670257  27982.542190   \n",
       "\n",
       "                price_in_cents         duree  price_in_cents         duree  \n",
       "transport_type                                                              \n",
       "bus                3631.394836  54682.474449     4060.615385  79196.307692  \n",
       "carpooling         2649.441879  14350.805687     2289.880952  13064.285714  \n",
       "train              8339.952320  25169.668566     3435.764706  18362.117647  "
      ]
     },
     "execution_count": 251,
     "metadata": {},
     "output_type": "execute_result"
    }
   ],
   "source": [
    "pd.concat([t0,t1,t2,t3],axis = 1)"
   ]
  },
  {
   "cell_type": "markdown",
   "metadata": {},
   "source": [
    "Les résultats ne semblent pas correspondre à ce qu'on attend car les prix décroissent avec la distance pour le covoiturage et pour le train. Les durées ne semblent pas correspondre non plus à ce qu'on attend mais le fait que beaucoup de trajets présentent des escale peut grandement fausser les résultats.\n",
    "La fonction distance ne semble pas être en cause, sa formule n'est pas excessivement compliquée et sur quelques exemples elle a l'air de fournir des résultats attendus. Cela vient peut-être de la base elle même."
   ]
  }
 ],
 "metadata": {
  "kernelspec": {
   "display_name": "Python 3",
   "language": "python",
   "name": "python3"
  },
  "language_info": {
   "codemirror_mode": {
    "name": "ipython",
    "version": 3
   },
   "file_extension": ".py",
   "mimetype": "text/x-python",
   "name": "python",
   "nbconvert_exporter": "python",
   "pygments_lexer": "ipython3",
   "version": "3.6.3"
  }
 },
 "nbformat": 4,
 "nbformat_minor": 2
}
